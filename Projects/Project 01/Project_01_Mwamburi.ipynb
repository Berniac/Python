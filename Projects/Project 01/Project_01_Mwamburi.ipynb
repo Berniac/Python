{
 "cells": [
  {
   "cell_type": "markdown",
   "id": "6a779326",
   "metadata": {},
   "source": [
    "# DSCI 503 - Project 01\n",
    "### Bernard Mwamburi"
   ]
  },
  {
   "cell_type": "markdown",
   "id": "591d45f5",
   "metadata": {},
   "source": [
    "# Introduction\n",
    "A project involving a dataset containing socioeconomic data for 184 countries recorded over a period of 219 years (1800-2018)."
   ]
  },
  {
   "cell_type": "code",
   "execution_count": 1,
   "id": "0f8c2869",
   "metadata": {},
   "outputs": [
    {
     "data": {
      "text/html": [
       "<div>\n",
       "<style scoped>\n",
       "    .dataframe tbody tr th:only-of-type {\n",
       "        vertical-align: middle;\n",
       "    }\n",
       "\n",
       "    .dataframe tbody tr th {\n",
       "        vertical-align: top;\n",
       "    }\n",
       "\n",
       "    .dataframe thead th {\n",
       "        text-align: right;\n",
       "    }\n",
       "</style>\n",
       "<table border=\"1\" class=\"dataframe\">\n",
       "  <thead>\n",
       "    <tr style=\"text-align: right;\">\n",
       "      <th></th>\n",
       "      <th>country</th>\n",
       "      <th>year</th>\n",
       "      <th>continent</th>\n",
       "      <th>population</th>\n",
       "      <th>life_exp</th>\n",
       "      <th>gdp_per_cap</th>\n",
       "      <th>gini</th>\n",
       "    </tr>\n",
       "  </thead>\n",
       "  <tbody>\n",
       "    <tr>\n",
       "      <th>0</th>\n",
       "      <td>Afghanistan</td>\n",
       "      <td>1800</td>\n",
       "      <td>asia</td>\n",
       "      <td>3280000</td>\n",
       "      <td>28.2</td>\n",
       "      <td>603</td>\n",
       "      <td>30.5</td>\n",
       "    </tr>\n",
       "    <tr>\n",
       "      <th>1</th>\n",
       "      <td>Albania</td>\n",
       "      <td>1800</td>\n",
       "      <td>europe</td>\n",
       "      <td>410000</td>\n",
       "      <td>35.4</td>\n",
       "      <td>667</td>\n",
       "      <td>38.9</td>\n",
       "    </tr>\n",
       "    <tr>\n",
       "      <th>2</th>\n",
       "      <td>Algeria</td>\n",
       "      <td>1800</td>\n",
       "      <td>africa</td>\n",
       "      <td>2500000</td>\n",
       "      <td>28.8</td>\n",
       "      <td>715</td>\n",
       "      <td>56.2</td>\n",
       "    </tr>\n",
       "    <tr>\n",
       "      <th>3</th>\n",
       "      <td>Angola</td>\n",
       "      <td>1800</td>\n",
       "      <td>africa</td>\n",
       "      <td>1570000</td>\n",
       "      <td>27.0</td>\n",
       "      <td>618</td>\n",
       "      <td>57.2</td>\n",
       "    </tr>\n",
       "    <tr>\n",
       "      <th>4</th>\n",
       "      <td>Antigua and Barbuda</td>\n",
       "      <td>1800</td>\n",
       "      <td>americas</td>\n",
       "      <td>37000</td>\n",
       "      <td>33.5</td>\n",
       "      <td>757</td>\n",
       "      <td>40.0</td>\n",
       "    </tr>\n",
       "    <tr>\n",
       "      <th>5</th>\n",
       "      <td>Argentina</td>\n",
       "      <td>1800</td>\n",
       "      <td>americas</td>\n",
       "      <td>534000</td>\n",
       "      <td>33.2</td>\n",
       "      <td>1510</td>\n",
       "      <td>47.7</td>\n",
       "    </tr>\n",
       "    <tr>\n",
       "      <th>6</th>\n",
       "      <td>Armenia</td>\n",
       "      <td>1800</td>\n",
       "      <td>europe</td>\n",
       "      <td>413000</td>\n",
       "      <td>34.0</td>\n",
       "      <td>514</td>\n",
       "      <td>31.5</td>\n",
       "    </tr>\n",
       "    <tr>\n",
       "      <th>7</th>\n",
       "      <td>Australia</td>\n",
       "      <td>1800</td>\n",
       "      <td>asia</td>\n",
       "      <td>351000</td>\n",
       "      <td>34.0</td>\n",
       "      <td>814</td>\n",
       "      <td>38.7</td>\n",
       "    </tr>\n",
       "    <tr>\n",
       "      <th>8</th>\n",
       "      <td>Austria</td>\n",
       "      <td>1800</td>\n",
       "      <td>europe</td>\n",
       "      <td>3210000</td>\n",
       "      <td>34.4</td>\n",
       "      <td>1850</td>\n",
       "      <td>33.4</td>\n",
       "    </tr>\n",
       "    <tr>\n",
       "      <th>9</th>\n",
       "      <td>Azerbaijan</td>\n",
       "      <td>1800</td>\n",
       "      <td>europe</td>\n",
       "      <td>880000</td>\n",
       "      <td>29.2</td>\n",
       "      <td>775</td>\n",
       "      <td>70.5</td>\n",
       "    </tr>\n",
       "  </tbody>\n",
       "</table>\n",
       "</div>"
      ],
      "text/plain": [
       "               country  year continent  population  life_exp  gdp_per_cap  \\\n",
       "0          Afghanistan  1800      asia     3280000      28.2          603   \n",
       "1              Albania  1800    europe      410000      35.4          667   \n",
       "2              Algeria  1800    africa     2500000      28.8          715   \n",
       "3               Angola  1800    africa     1570000      27.0          618   \n",
       "4  Antigua and Barbuda  1800  americas       37000      33.5          757   \n",
       "5            Argentina  1800  americas      534000      33.2         1510   \n",
       "6              Armenia  1800    europe      413000      34.0          514   \n",
       "7            Australia  1800      asia      351000      34.0          814   \n",
       "8              Austria  1800    europe     3210000      34.4         1850   \n",
       "9           Azerbaijan  1800    europe      880000      29.2          775   \n",
       "\n",
       "   gini  \n",
       "0  30.5  \n",
       "1  38.9  \n",
       "2  56.2  \n",
       "3  57.2  \n",
       "4  40.0  \n",
       "5  47.7  \n",
       "6  31.5  \n",
       "7  38.7  \n",
       "8  33.4  \n",
       "9  70.5  "
      ]
     },
     "execution_count": 1,
     "metadata": {},
     "output_type": "execute_result"
    }
   ],
   "source": [
    "import pandas as pd\n",
    "df = pd.read_csv('gapminder_data.txt', sep='\\t')\n",
    "df.head(10)"
   ]
  },
  {
   "cell_type": "code",
   "execution_count": 2,
   "id": "843b56d0",
   "metadata": {},
   "outputs": [],
   "source": [
    "country = df.country.to_list()\n",
    "continent = df.continent.to_list()\n",
    "year = df.year.to_list()\n",
    "population = df.population.to_list()\n",
    "life_exp = df.life_exp.to_list()\n",
    "pcgdp = df.gdp_per_cap.to_list()\n",
    "gini = df.gini.to_list()"
   ]
  },
  {
   "cell_type": "code",
   "execution_count": 3,
   "id": "ac6f2e83",
   "metadata": {},
   "outputs": [
    {
     "name": "stdout",
     "output_type": "stream",
     "text": [
      "Country:  Argentina\n",
      "Continent:  americas\n",
      "Year:  1800\n",
      "Population:  534000\n",
      "Life Expectancy:  33.2\n",
      "Per Capita GDP:  1510\n",
      "Gini Index:  47.7\n"
     ]
    }
   ],
   "source": [
    "N = 5\n",
    "print('Country: ', country[N])\n",
    "print('Continent: ', continent[N])\n",
    "print('Year: ', year[N])\n",
    "print('Population: ', population[N])\n",
    "print('Life Expectancy: ', life_exp[N])\n",
    "print('Per Capita GDP: ', pcgdp[N])\n",
    "print('Gini Index: ', gini[N])"
   ]
  },
  {
   "cell_type": "markdown",
   "id": "5e0e4669",
   "metadata": {},
   "source": [
    "# Part 1: Displaying Past 20 Years of US Data\n",
    "A display of the last 20 years of data for the United States"
   ]
  },
  {
   "cell_type": "code",
   "execution_count": 4,
   "id": "fbe229d4",
   "metadata": {},
   "outputs": [
    {
     "name": "stdout",
     "output_type": "stream",
     "text": [
      "\n",
      "Year    Country          Population   LExp    pcGDP    Gini\n",
      "-----------------------------------------------------------\n",
      "1999    United States    279000000    76.8    44700    40.5\n",
      "2000    United States    282000000    76.9    46000    40.5\n",
      "2001    United States    285000000    77.0    46000    40.5\n",
      "2002    United States    288000000    77.1    46400    40.5\n",
      "2003    United States    290000000    77.3    47300    40.5\n",
      "2004    United States    293000000    77.5    48600    40.6\n",
      "2005    United States    295000000    77.7    49800    40.7\n",
      "2006    United States    298000000    77.9    50600    40.8\n",
      "2007    United States    301000000    78.1    51000    40.8\n",
      "2008    United States    303000000    78.3    50400    40.8\n",
      "2009    United States    306000000    78.6    48600    40.7\n",
      "2010    United States    309000000    78.7    49400    40.7\n",
      "2011    United States    311000000    78.8    49800    40.7\n",
      "2012    United States    313000000    78.9    50500    40.8\n",
      "2013    United States    316000000    78.9    51000    41.0\n",
      "2014    United States    318000000    78.9    51800    41.2\n",
      "2015    United States    320000000    78.8    52800    41.3\n",
      "2016    United States    322000000    78.8    53300    41.4\n",
      "2017    United States    324000000    79.0    54200    41.5\n",
      "2018    United States    327000000    79.1    54900    41.5\n"
     ]
    }
   ],
   "source": [
    "print(\"\"\"\n",
    "Year    Country          Population   LExp    pcGDP    Gini\n",
    "-----------------------------------------------------------\n",
    "\"\"\", end='')\n",
    "for i in range(0, len(year)):\n",
    "    if year[i] >= 1999 and country[i] == \"United States\":\n",
    "        print(\"{0}    {1}    {2}    {3}    {4}    {5}\"\n",
    "              .format(year[i], country[i], population[i], life_exp[i], pcgdp[i], gini[i]))"
   ]
  },
  {
   "cell_type": "markdown",
   "id": "db595c26",
   "metadata": {},
   "source": [
    "# Part 2: Selecting the 2018 Data\n",
    "We will be creating 6 lists containing data for each of the 184 countries in the year 2018"
   ]
  },
  {
   "cell_type": "code",
   "execution_count": 5,
   "id": "f5e5ae7f",
   "metadata": {},
   "outputs": [],
   "source": [
    "country_2018 = []\n",
    "population_2018 = []\n",
    "continent_2018 = []\n",
    "life_exp_2018 = []\n",
    "pcgdp_2018 = []\n",
    "gini_2018 = []\n",
    "\n",
    "for i in range(0, len(year)):\n",
    "    if year[i] == 2018:\n",
    "        country_2018.append(country[i])\n",
    "        population_2018.append(population[i])\n",
    "        continent_2018.append(continent[i])\n",
    "        life_exp_2018.append(life_exp[i])\n",
    "        pcgdp_2018.append(pcgdp[i])\n",
    "        gini_2018.append(gini[i])"
   ]
  },
  {
   "cell_type": "code",
   "execution_count": 6,
   "id": "5e37235c",
   "metadata": {},
   "outputs": [
    {
     "name": "stdout",
     "output_type": "stream",
     "text": [
      "The global population in 2018 was 7595200200.\n"
     ]
    }
   ],
   "source": [
    "global_population_2018 = sum(population_2018)\n",
    "print(\"The global population in 2018 was {0}.\".format(global_population_2018))"
   ]
  },
  {
   "cell_type": "markdown",
   "id": "74999d4c",
   "metadata": {},
   "source": [
    "# Part 3: Identifying Countries with Largest and Smallest Populations\n",
    "We will display a list of the countries with the largest populations in 2018 and a list of countries with the smallest populations in 2018"
   ]
  },
  {
   "cell_type": "code",
   "execution_count": 7,
   "id": "b3416848",
   "metadata": {},
   "outputs": [
    {
     "name": "stdout",
     "output_type": "stream",
     "text": [
      "\n",
      "Countries with Largest Populations in 2018\n",
      "------------------------------------------------------\n",
      "The population of Bangladesh in 2018 was 166000000.\n",
      "The population of Brazil in 2018 was 211000000.\n",
      "The population of China in 2018 was 1420000000.\n",
      "The population of India in 2018 was 1350000000.\n",
      "The population of Indonesia in 2018 was 267000000.\n",
      "The population of Mexico in 2018 was 131000000.\n",
      "The population of Nigeria in 2018 was 196000000.\n",
      "The population of Pakistan in 2018 was 201000000.\n",
      "The population of Russia in 2018 was 144000000.\n",
      "The population of United States in 2018 was 327000000.\n"
     ]
    }
   ],
   "source": [
    "population_2018_desc = sorted(population_2018, reverse=True)\n",
    "country10_pop = population_2018_desc[9]\n",
    "print(\"\"\"\n",
    "Countries with Largest Populations in 2018\n",
    "------------------------------------------------------\n",
    "\"\"\", end='')\n",
    "for i in range(0, len(population_2018)):\n",
    "    if population_2018[i] >= country10_pop:\n",
    "        print(\"The population of {0} in 2018 was {1}.\".format(country_2018[i], population_2018[i]))\n",
    "        "
   ]
  },
  {
   "cell_type": "code",
   "execution_count": 8,
   "id": "0ce304df",
   "metadata": {
    "scrolled": false
   },
   "outputs": [
    {
     "name": "stdout",
     "output_type": "stream",
     "text": [
      "\n",
      "Countries with Smallest Populations in 2018\n",
      "------------------------------------------------------\n",
      "The population of Antigua and Barbuda in 2018 was 103000.\n",
      "The population of Grenada in 2018 was 108000.\n",
      "The population of Kiribati in 2018 was 118000.\n",
      "The population of Micronesia, Fed. Sts. in 2018 was 106000.\n",
      "The population of Samoa in 2018 was 198000.\n",
      "The population of Sao Tome and Principe in 2018 was 209000.\n",
      "The population of Seychelles in 2018 was 95200.\n",
      "The population of St. Lucia in 2018 was 180000.\n",
      "The population of St. Vincent and the Grenadines in 2018 was 110000.\n",
      "The population of Tonga in 2018 was 109000.\n"
     ]
    }
   ],
   "source": [
    "country10_pop_low = population_2018_desc[-10]\n",
    "print(\"\"\"\n",
    "Countries with Smallest Populations in 2018\n",
    "------------------------------------------------------\n",
    "\"\"\", end='')\n",
    "for i in range(0, len(population_2018)):\n",
    "    if population_2018[i] <= country10_pop_low:\n",
    "        print(\"The population of {0} in 2018 was {1}.\".format(country_2018[i], population_2018[i]))"
   ]
  },
  {
   "cell_type": "markdown",
   "id": "31d8b33e",
   "metadata": {},
   "source": [
    "# Part 4: Identifying Countries with Highest and Lowest Life Expectancies\n",
    "We will display a list of the countries with the highest life expectancies in 2018 and another of the countries with the lowest life expectancies in 2018"
   ]
  },
  {
   "cell_type": "code",
   "execution_count": 9,
   "id": "7f2e129a",
   "metadata": {},
   "outputs": [
    {
     "name": "stdout",
     "output_type": "stream",
     "text": [
      "\n",
      "Countries with Highest Life Expectancy in 2018\n",
      "------------------------------------------------------\n",
      "The life expectancy of Australia in 2018 was 82.9.\n",
      "The life expectancy of France in 2018 was 82.6.\n",
      "The life expectancy of Iceland in 2018 was 82.6.\n",
      "The life expectancy of Israel in 2018 was 82.4.\n",
      "The life expectancy of Italy in 2018 was 82.6.\n",
      "The life expectancy of Japan in 2018 was 84.2.\n",
      "The life expectancy of Luxembourg in 2018 was 82.4.\n",
      "The life expectancy of Norway in 2018 was 82.4.\n",
      "The life expectancy of Singapore in 2018 was 84.0.\n",
      "The life expectancy of Spain in 2018 was 83.2.\n",
      "The life expectancy of Sweden in 2018 was 82.4.\n",
      "The life expectancy of Switzerland in 2018 was 83.5.\n"
     ]
    }
   ],
   "source": [
    "life_exp_2018_desc = sorted(life_exp_2018, reverse=True)\n",
    "country10_life_exp = life_exp_2018_desc[9]\n",
    "print(\"\"\"\n",
    "Countries with Highest Life Expectancy in 2018\n",
    "------------------------------------------------------\n",
    "\"\"\", end='')\n",
    "for i in range(0, len(life_exp_2018)):\n",
    "    if life_exp_2018[i] >= country10_life_exp:\n",
    "        print(\"The life expectancy of {0} in 2018 was {1}.\".format(country_2018[i], life_exp_2018[i]))"
   ]
  },
  {
   "cell_type": "code",
   "execution_count": 10,
   "id": "54c82083",
   "metadata": {},
   "outputs": [
    {
     "name": "stdout",
     "output_type": "stream",
     "text": [
      "\n",
      "Countries with Lowest Life Expectancy in 2018\n",
      "-----------------------------------------------------\n",
      "The life expectancy of Afghanistan in 2018 was 58.7.\n",
      "The life expectancy of Central African Republic in 2018 was 51.6.\n",
      "The life expectancy of Chad in 2018 was 60.5.\n",
      "The life expectancy of Guinea-Bissau in 2018 was 59.7.\n",
      "The life expectancy of Lesotho in 2018 was 51.1.\n",
      "The life expectancy of Sierra Leone in 2018 was 60.0.\n",
      "The life expectancy of Somalia in 2018 was 58.0.\n",
      "The life expectancy of Swaziland in 2018 was 58.6.\n",
      "The life expectancy of Zambia in 2018 was 59.5.\n",
      "The life expectancy of Zimbabwe in 2018 was 60.2.\n"
     ]
    }
   ],
   "source": [
    "country10_life_exp_low = life_exp_2018_desc[-10]\n",
    "print(\"\"\"\n",
    "Countries with Lowest Life Expectancy in 2018\n",
    "-----------------------------------------------------\n",
    "\"\"\", end='')\n",
    "for i in range(0, len(life_exp_2018)):\n",
    "    if life_exp_2018[i] <= country10_life_exp_low:\n",
    "        print(\"The life expectancy of {0} in 2018 was {1}.\".format(country_2018[i], life_exp_2018[i]))"
   ]
  },
  {
   "cell_type": "markdown",
   "id": "992b0d2a",
   "metadata": {},
   "source": [
    "# Part 5: Calculating GDP by Country\n",
    "We will create a list that contains the GDP for each country in 2018 and the total GDP of the world as a whole."
   ]
  },
  {
   "cell_type": "code",
   "execution_count": 11,
   "id": "d5373379",
   "metadata": {},
   "outputs": [
    {
     "name": "stdout",
     "output_type": "stream",
     "text": [
      "The total global GDP in 2018 was $118225647770000.\n"
     ]
    }
   ],
   "source": [
    "gdp_2018 = []\n",
    "for i in range(0, len(country_2018)):\n",
    "    gdp_2018.append(pcgdp_2018[i] * population_2018[i])\n",
    "        \n",
    "print(\"The total global GDP in 2018 was ${0}.\".format(sum(gdp_2018)))"
   ]
  },
  {
   "cell_type": "code",
   "execution_count": 12,
   "id": "9528078f",
   "metadata": {},
   "outputs": [
    {
     "name": "stdout",
     "output_type": "stream",
     "text": [
      "\n",
      "The country with the highest GDP in 2018 was China with a GDP of 22720000000000.\n",
      "The country with the lowest GDP in 2018 was Kiribati with a GDP of 223020000.\n",
      "\n"
     ]
    }
   ],
   "source": [
    "highest_gdp_2018 = max(gdp_2018)\n",
    "lowest_gdp_2018 = min(gdp_2018)\n",
    "highest_idx = gdp_2018.index(highest_gdp_2018)\n",
    "lowest_idx = gdp_2018.index(lowest_gdp_2018)\n",
    "print('''\n",
    "The country with the highest GDP in 2018 was {0} with a GDP of {1}.\n",
    "The country with the lowest GDP in 2018 was {2} with a GDP of {3}.\n",
    "'''.format(country_2018[highest_idx], highest_gdp_2018, country_2018[lowest_idx], lowest_gdp_2018))"
   ]
  },
  {
   "cell_type": "markdown",
   "id": "87927edd",
   "metadata": {},
   "source": [
    "# Part 6: Grouping by Continent\n",
    "We will calculate the total population,per capita GDP, and life expectancy for each of the four continental regions(africa, americas, asia, and europe) in 2018."
   ]
  },
  {
   "cell_type": "code",
   "execution_count": 13,
   "id": "6dd9ed7a",
   "metadata": {
    "scrolled": true
   },
   "outputs": [
    {
     "name": "stdout",
     "output_type": "stream",
     "text": [
      "\n",
      "Continent    Population      pcGDP    Life Exp\n",
      "----------------------------------------------\n",
      "africa       1287150200       4700        65.9\n",
      "americas     1010978000      28708        77.5\n",
      "asia         4455113000      12705        73.2\n",
      "europe        841959000      31534        78.4\n"
     ]
    }
   ],
   "source": [
    "continent_names = ['africa', 'americas', 'asia', 'europe']\n",
    "pcgdp_2018_by_continent = []\n",
    "pop_2018_by_continent = []\n",
    "life_exp_2018_by_continent = []\n",
    "\n",
    "for item in continent_names:\n",
    "    temp_life_exp = 0\n",
    "    temp_pop = 0\n",
    "    temp_gdp = 0\n",
    "    countries = 0\n",
    "    for i in range(0, len(country_2018)):\n",
    "        if continent_2018[i] == item:\n",
    "            temp_pop += population_2018[i]\n",
    "            temp_gdp += gdp_2018[i]\n",
    "            temp_life_exp += (life_exp_2018[i] * population_2018[i])\n",
    "    temp_gdp = round(temp_gdp / temp_pop)\n",
    "    temp_life_exp = round(temp_life_exp / temp_pop, 1)\n",
    "    pop_2018_by_continent.append(temp_pop)\n",
    "    pcgdp_2018_by_continent.append(temp_gdp)\n",
    "    life_exp_2018_by_continent.append(temp_life_exp)\n",
    "    \n",
    "print('''\n",
    "Continent    Population      pcGDP    Life Exp\n",
    "----------------------------------------------\n",
    "''', end='')\n",
    "for i in range(len(continent_names)):\n",
    "    print(\"{0:<9}{1:>14}{2:>11}{3:>12}\"\n",
    "          .format(continent_names[i], pop_2018_by_continent[i], pcgdp_2018_by_continent[i], life_exp_2018_by_continent[i]))"
   ]
  }
 ],
 "metadata": {
  "kernelspec": {
   "display_name": "Python 3 (ipykernel)",
   "language": "python",
   "name": "python3"
  },
  "language_info": {
   "codemirror_mode": {
    "name": "ipython",
    "version": 3
   },
   "file_extension": ".py",
   "mimetype": "text/x-python",
   "name": "python",
   "nbconvert_exporter": "python",
   "pygments_lexer": "ipython3",
   "version": "3.10.9"
  }
 },
 "nbformat": 4,
 "nbformat_minor": 5
}
