{
 "cells": [
  {
   "cell_type": "markdown",
   "id": "36b98062",
   "metadata": {},
   "source": [
    "## DSCI 503 - Homework 00\n",
    "\n",
    "**Bernard Mwamburi**\n",
    "\n",
    "Due Wednesday, 5/06"
   ]
  },
  {
   "cell_type": "markdown",
   "id": "de232881",
   "metadata": {},
   "source": [
    "### Part 1: Arithmetic Operations\n",
    "\n",
    "In this section of the assignment, we will demonstrate the following concepts:\n",
    "* Addition\n",
    "* Subtraction\n",
    "* Multiplication\n",
    "* Division\n",
    "* Exponentation"
   ]
  },
  {
   "cell_type": "code",
   "execution_count": 1,
   "id": "1df94f5b",
   "metadata": {},
   "outputs": [
    {
     "name": "stdout",
     "output_type": "stream",
     "text": [
      "9\n"
     ]
    }
   ],
   "source": [
    "print(7 + 2)"
   ]
  },
  {
   "cell_type": "code",
   "execution_count": 2,
   "id": "edd9a05c",
   "metadata": {},
   "outputs": [
    {
     "name": "stdout",
     "output_type": "stream",
     "text": [
      "5\n"
     ]
    }
   ],
   "source": [
    "print(7 - 2)"
   ]
  },
  {
   "cell_type": "code",
   "execution_count": 3,
   "id": "d2bfb748",
   "metadata": {},
   "outputs": [
    {
     "name": "stdout",
     "output_type": "stream",
     "text": [
      "14\n"
     ]
    }
   ],
   "source": [
    "print(7 * 2)"
   ]
  },
  {
   "cell_type": "code",
   "execution_count": 4,
   "id": "f2233a36",
   "metadata": {},
   "outputs": [
    {
     "name": "stdout",
     "output_type": "stream",
     "text": [
      "3.5\n"
     ]
    }
   ],
   "source": [
    "print(7 / 2)"
   ]
  },
  {
   "cell_type": "code",
   "execution_count": 5,
   "id": "627190cb",
   "metadata": {},
   "outputs": [
    {
     "name": "stdout",
     "output_type": "stream",
     "text": [
      "49\n"
     ]
    }
   ],
   "source": [
    "print(7 ** 2)"
   ]
  },
  {
   "cell_type": "markdown",
   "id": "dcb5caab",
   "metadata": {},
   "source": [
    "### Part 2: Variables\n",
    "\n",
    "In this section of the assignment, we will demonstrate the following concepts:\n",
    "* Creating variables\n",
    "* Printin the value of variables\n",
    "* Operations with variables\n",
    "* Nonlinear execution in notebooks"
   ]
  },
  {
   "cell_type": "code",
   "execution_count": 6,
   "id": "4fd86dae",
   "metadata": {},
   "outputs": [],
   "source": [
    "x = 91"
   ]
  },
  {
   "cell_type": "code",
   "execution_count": 7,
   "id": "3923a68f",
   "metadata": {},
   "outputs": [],
   "source": [
    "x = 42"
   ]
  },
  {
   "cell_type": "code",
   "execution_count": 8,
   "id": "27ba77be",
   "metadata": {},
   "outputs": [
    {
     "name": "stdout",
     "output_type": "stream",
     "text": [
      "42\n"
     ]
    }
   ],
   "source": [
    "print(x)"
   ]
  },
  {
   "cell_type": "code",
   "execution_count": 9,
   "id": "c8ce10f8",
   "metadata": {},
   "outputs": [],
   "source": [
    "y = 7"
   ]
  },
  {
   "cell_type": "code",
   "execution_count": 10,
   "id": "98c94aba",
   "metadata": {},
   "outputs": [
    {
     "name": "stdout",
     "output_type": "stream",
     "text": [
      "7\n"
     ]
    }
   ],
   "source": [
    "print(y)"
   ]
  },
  {
   "cell_type": "code",
   "execution_count": 11,
   "id": "704db67e",
   "metadata": {},
   "outputs": [
    {
     "name": "stdout",
     "output_type": "stream",
     "text": [
      "6.0\n"
     ]
    }
   ],
   "source": [
    "print(x / y)"
   ]
  },
  {
   "cell_type": "markdown",
   "id": "fe29c050",
   "metadata": {},
   "source": [
    "### Part 3: Comments\n",
    "\n",
    "In this section of the assignment, we will demonstrate the following concepts:\n",
    "* Writing comments\n",
    "* Using comments to document code\n",
    "* Using comments to disable lines of code"
   ]
  },
  {
   "cell_type": "code",
   "execution_count": 12,
   "id": "0fa9fe87",
   "metadata": {},
   "outputs": [
    {
     "name": "stdout",
     "output_type": "stream",
     "text": [
      "7\n"
     ]
    }
   ],
   "source": [
    "# This is a comment\n",
    "print(2 + 5)"
   ]
  },
  {
   "cell_type": "code",
   "execution_count": 13,
   "id": "98e920db",
   "metadata": {},
   "outputs": [
    {
     "name": "stdout",
     "output_type": "stream",
     "text": [
      "2937.54\n"
     ]
    }
   ],
   "source": [
    "# In this cell, we will calculate sales revenue\n",
    "sales = 173              # Monthly widget sales\n",
    "price = 16.98            # Price per widget\n",
    "revenue = sales * price  # Monthly revenue\n",
    "print(revenue)"
   ]
  },
  {
   "cell_type": "code",
   "execution_count": 14,
   "id": "f92a16c9",
   "metadata": {},
   "outputs": [
    {
     "name": "stdout",
     "output_type": "stream",
     "text": [
      "2.0\n",
      "3.0\n"
     ]
    }
   ],
   "source": [
    "print(12 / 6)\n",
    "# print(12 / 0)\n",
    "print(12 / 4)"
   ]
  },
  {
   "cell_type": "markdown",
   "id": "29819222",
   "metadata": {},
   "source": [
    "### Part 4: Strings\n",
    "\n",
    "In this section of the assignment, we will demonstrate the following concepts:\n",
    "* Creating strings\n",
    "* Storing strings in variables\n",
    "* Printing multiple items"
   ]
  },
  {
   "cell_type": "code",
   "execution_count": 15,
   "id": "05599fb0",
   "metadata": {},
   "outputs": [
    {
     "name": "stdout",
     "output_type": "stream",
     "text": [
      "Hello, world!\n"
     ]
    }
   ],
   "source": [
    "print(\"Hello, world!\")"
   ]
  },
  {
   "cell_type": "code",
   "execution_count": 16,
   "id": "b8fb018c",
   "metadata": {},
   "outputs": [
    {
     "name": "stdout",
     "output_type": "stream",
     "text": [
      "Bernard Mwamburi\n"
     ]
    }
   ],
   "source": [
    "name = \"Bernard Mwamburi\"\n",
    "print(name)"
   ]
  },
  {
   "cell_type": "code",
   "execution_count": 17,
   "id": "943fd321",
   "metadata": {},
   "outputs": [
    {
     "name": "stdout",
     "output_type": "stream",
     "text": [
      "Hello, my name is Bernard Mwamburi\n"
     ]
    }
   ],
   "source": [
    "print(\"Hello, my name is\", name)"
   ]
  },
  {
   "cell_type": "code",
   "execution_count": 18,
   "id": "3c4445d8",
   "metadata": {},
   "outputs": [
    {
     "name": "stdout",
     "output_type": "stream",
     "text": [
      "Hello, my name is Bernard Mwamburi .\n"
     ]
    }
   ],
   "source": [
    "print(\"Hello, my name is\", name, \".\")"
   ]
  },
  {
   "cell_type": "code",
   "execution_count": 19,
   "id": "1dfca3b7",
   "metadata": {},
   "outputs": [
    {
     "name": "stdout",
     "output_type": "stream",
     "text": [
      "Hello, my name is Bernard Mwamburi.\n"
     ]
    }
   ],
   "source": [
    "print(\"Hello, my name is \", name, \".\", sep=\"\")"
   ]
  }
 ],
 "metadata": {
  "kernelspec": {
   "display_name": "Python 3 (ipykernel)",
   "language": "python",
   "name": "python3"
  },
  "language_info": {
   "codemirror_mode": {
    "name": "ipython",
    "version": 3
   },
   "file_extension": ".py",
   "mimetype": "text/x-python",
   "name": "python",
   "nbconvert_exporter": "python",
   "pygments_lexer": "ipython3",
   "version": "3.10.9"
  }
 },
 "nbformat": 4,
 "nbformat_minor": 5
}
