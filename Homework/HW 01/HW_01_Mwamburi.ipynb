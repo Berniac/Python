{
 "cells": [
  {
   "cell_type": "markdown",
   "id": "36daf9a1",
   "metadata": {},
   "source": [
    "# DSCI 503 - Homework 01\n",
    "\n",
    "### Bernard Mwamburi"
   ]
  },
  {
   "cell_type": "markdown",
   "id": "ff79a34f",
   "metadata": {},
   "source": [
    "## Problem 1: Arithmetic and Geometric Means"
   ]
  },
  {
   "cell_type": "code",
   "execution_count": 1,
   "id": "50dec79f",
   "metadata": {},
   "outputs": [],
   "source": [
    "x0 = 11\n",
    "x1 = 12\n",
    "x2 = 17\n",
    "x3 = 19"
   ]
  },
  {
   "cell_type": "code",
   "execution_count": 2,
   "id": "0e9f94b3",
   "metadata": {},
   "outputs": [],
   "source": [
    "total = x0 + x1 + x2 + x3"
   ]
  },
  {
   "cell_type": "code",
   "execution_count": 3,
   "id": "1eaeee5b",
   "metadata": {},
   "outputs": [],
   "source": [
    "product = x0 * x1 * x2 * x3"
   ]
  },
  {
   "cell_type": "code",
   "execution_count": 4,
   "id": "44bb8b87",
   "metadata": {},
   "outputs": [],
   "source": [
    "arith_mean = total / 4"
   ]
  },
  {
   "cell_type": "code",
   "execution_count": 5,
   "id": "e7d5e659",
   "metadata": {},
   "outputs": [],
   "source": [
    "geom_mean = product ** 0.25"
   ]
  },
  {
   "cell_type": "code",
   "execution_count": 6,
   "id": "86223f9e",
   "metadata": {},
   "outputs": [
    {
     "name": "stdout",
     "output_type": "stream",
     "text": [
      "\n",
      "Sum:              59        \n",
      "Product:          42636\n",
      "Arithmetic Mean:  14.75\n",
      "Geometric Mean:   14.37\n"
     ]
    }
   ],
   "source": [
    "print('''\n",
    "Sum:              {total}        \n",
    "Product:          {product}\n",
    "Arithmetic Mean:  {arith_mean:.2f}\n",
    "Geometric Mean:   {geom_mean:.2f}'''.format(total=total, product=product, arith_mean=arith_mean, geom_mean=geom_mean))"
   ]
  },
  {
   "cell_type": "markdown",
   "id": "a8e1800c",
   "metadata": {},
   "source": [
    "## Problem 2: Calculating Bill"
   ]
  },
  {
   "cell_type": "code",
   "execution_count": 7,
   "id": "02cca5c9",
   "metadata": {},
   "outputs": [],
   "source": [
    "ss_cost = 2 * 3.95"
   ]
  },
  {
   "cell_type": "code",
   "execution_count": 8,
   "id": "cc02bdf1",
   "metadata": {},
   "outputs": [],
   "source": [
    "hb_cost = 2 * 8.95"
   ]
  },
  {
   "cell_type": "code",
   "execution_count": 9,
   "id": "e894ee64",
   "metadata": {},
   "outputs": [],
   "source": [
    "ds_cost = 2 * 2.50"
   ]
  },
  {
   "cell_type": "code",
   "execution_count": 10,
   "id": "6773234d",
   "metadata": {},
   "outputs": [],
   "source": [
    "subtotal = ss_cost + hb_cost + ds_cost"
   ]
  },
  {
   "cell_type": "code",
   "execution_count": 11,
   "id": "5ae97bd8",
   "metadata": {},
   "outputs": [],
   "source": [
    "tax = round((subtotal * 0.0475), 2)"
   ]
  },
  {
   "cell_type": "code",
   "execution_count": 12,
   "id": "1b27df94",
   "metadata": {},
   "outputs": [],
   "source": [
    "tip = round((subtotal * 0.15), 2)"
   ]
  },
  {
   "cell_type": "code",
   "execution_count": 13,
   "id": "a9df198e",
   "metadata": {},
   "outputs": [],
   "source": [
    "total_charge = subtotal + tax + tip"
   ]
  },
  {
   "cell_type": "code",
   "execution_count": 14,
   "id": "23e0bb3d",
   "metadata": {},
   "outputs": [
    {
     "name": "stdout",
     "output_type": "stream",
     "text": [
      "\n",
      "2 Side Salads:  $7.9\n",
      "2 Hamburgers:   $17.9\n",
      "2 Diet Sodas:   $5.0\n",
      "----------------------\n",
      "Subtotal:       $30.80\n",
      "Tax (4.75%):    $1.46\n",
      "Tip (15%):      $4.62\n",
      "----------------------\n",
      "Total Charge:   $36.88\n",
      "\n"
     ]
    }
   ],
   "source": [
    "print('''\n",
    "2 Side Salads:  ${ss_cost}\n",
    "2 Hamburgers:   ${hb_cost}\n",
    "2 Diet Sodas:   ${ds_cost}\n",
    "----------------------\n",
    "Subtotal:       ${subtotal:.2f}\n",
    "Tax (4.75%):    ${tax}\n",
    "Tip (15%):      ${tip}\n",
    "----------------------\n",
    "Total Charge:   ${total_charge:.2f}\n",
    "'''.format(ss_cost=ss_cost, hb_cost=hb_cost, ds_cost=ds_cost, subtotal=subtotal, tax=tax, tip=tip, total_charge=total_charge))"
   ]
  },
  {
   "cell_type": "markdown",
   "id": "6387ade7",
   "metadata": {},
   "source": [
    "## Problem 3: Volume of a Sphere"
   ]
  },
  {
   "cell_type": "code",
   "execution_count": 15,
   "id": "aa5e604a",
   "metadata": {},
   "outputs": [],
   "source": [
    "pi = 3.14159"
   ]
  },
  {
   "cell_type": "code",
   "execution_count": 16,
   "id": "8100466f",
   "metadata": {},
   "outputs": [],
   "source": [
    "r1, r2, r3 = 4.6, 7.2, 9.7"
   ]
  },
  {
   "cell_type": "code",
   "execution_count": 17,
   "id": "5089faaa",
   "metadata": {},
   "outputs": [],
   "source": [
    "v1 = (4 / 3) * pi * (r1 ** 3)\n",
    "v2 = (4 / 3) * pi * (r2 ** 3)\n",
    "v3 = (4 / 3) * pi * (r3 ** 3)"
   ]
  },
  {
   "cell_type": "code",
   "execution_count": 18,
   "id": "24a876b7",
   "metadata": {},
   "outputs": [
    {
     "name": "stdout",
     "output_type": "stream",
     "text": [
      "The volume of a sphere with radius 4.6 is equal to 407.720.\n",
      "The volume of a sphere with radius 7.2 is equal to 1563.456.\n",
      "The volume of a sphere with radius 9.7 is equal to 3822.992.\n"
     ]
    }
   ],
   "source": [
    "print(\"The volume of a sphere with radius {r1} is equal to {v1:.3f}.\".format(r1=r1, v1=v1))\n",
    "print(\"The volume of a sphere with radius {r2} is equal to {v2:.3f}.\".format(r2=r2, v2=v2))\n",
    "print(\"The volume of a sphere with radius {r3} is equal to {v3:.3f}.\".format(r3=r3, v3=v3))"
   ]
  },
  {
   "cell_type": "markdown",
   "id": "aeffe0ef",
   "metadata": {},
   "source": [
    "## Problem 4: Simple Interest"
   ]
  },
  {
   "cell_type": "code",
   "execution_count": 19,
   "id": "1f69f587",
   "metadata": {},
   "outputs": [],
   "source": [
    "P = 210\n",
    "i = 0.09\n",
    "t = 10/12"
   ]
  },
  {
   "cell_type": "code",
   "execution_count": 20,
   "id": "5cd48f8a",
   "metadata": {},
   "outputs": [],
   "source": [
    "A = P * (1 + (i * t))"
   ]
  },
  {
   "cell_type": "code",
   "execution_count": 21,
   "id": "f8994c17",
   "metadata": {},
   "outputs": [
    {
     "name": "stdout",
     "output_type": "stream",
     "text": [
      "Amount repaid: $225.75\n"
     ]
    }
   ],
   "source": [
    "print(\"Amount repaid: ${A}\".format(A=A))"
   ]
  },
  {
   "cell_type": "markdown",
   "id": "7ddc1902",
   "metadata": {},
   "source": [
    "## Problem 5: Compound Interest"
   ]
  },
  {
   "cell_type": "code",
   "execution_count": 22,
   "id": "df64d948",
   "metadata": {},
   "outputs": [],
   "source": [
    "P = 400\n",
    "i = 0.05\n",
    "t = 3"
   ]
  },
  {
   "cell_type": "code",
   "execution_count": 23,
   "id": "ad9c66d8",
   "metadata": {},
   "outputs": [],
   "source": [
    "A = round((P * ((1 + i) ** t)), 2)"
   ]
  },
  {
   "cell_type": "code",
   "execution_count": 24,
   "id": "aaa5852d",
   "metadata": {},
   "outputs": [
    {
     "name": "stdout",
     "output_type": "stream",
     "text": [
      "Amount repaid: $463.05\n"
     ]
    }
   ],
   "source": [
    "print(\"Amount repaid: ${A}\".format(A=A))"
   ]
  },
  {
   "cell_type": "markdown",
   "id": "07dbd6d2",
   "metadata": {},
   "source": [
    "## Problem 6: Annuity"
   ]
  },
  {
   "cell_type": "code",
   "execution_count": 25,
   "id": "ed9b0f85",
   "metadata": {},
   "outputs": [],
   "source": [
    "PMT = 2000\n",
    "i = 0.04\n",
    "n = 18"
   ]
  },
  {
   "cell_type": "code",
   "execution_count": 26,
   "id": "7792560a",
   "metadata": {},
   "outputs": [],
   "source": [
    "A = round((PMT * (((1 + i) ** n) - 1) / i), 2)"
   ]
  },
  {
   "cell_type": "code",
   "execution_count": 27,
   "id": "3d255432",
   "metadata": {},
   "outputs": [
    {
     "name": "stdout",
     "output_type": "stream",
     "text": [
      "Balance after 18 years: $51290.83\n"
     ]
    }
   ],
   "source": [
    "print(\"Balance after 18 years: ${A}\".format(A=A))"
   ]
  },
  {
   "cell_type": "markdown",
   "id": "a559799e",
   "metadata": {},
   "source": [
    "## Problem 7: Probability"
   ]
  },
  {
   "cell_type": "code",
   "execution_count": 28,
   "id": "151a599c",
   "metadata": {},
   "outputs": [],
   "source": [
    "prob_A = 0.6\n",
    "prob_B = 0.3"
   ]
  },
  {
   "cell_type": "code",
   "execution_count": 29,
   "id": "3cd9ad2b",
   "metadata": {},
   "outputs": [],
   "source": [
    "prob_A_and_B = prob_A * prob_B\n",
    "prob_A_or_B = prob_A + prob_B - prob_A_and_B"
   ]
  },
  {
   "cell_type": "code",
   "execution_count": 30,
   "id": "b0ec3c18",
   "metadata": {},
   "outputs": [
    {
     "name": "stdout",
     "output_type": "stream",
     "text": [
      "Probability that both people are late:        0.18\n",
      "Probability that at least one person is late: 0.72\n"
     ]
    }
   ],
   "source": [
    "print(\"Probability that both people are late:        {prob_A_and_B}\".format(prob_A_and_B=prob_A_and_B))\n",
    "print(\"Probability that at least one person is late: {prob_A_or_B}\".format(prob_A_or_B=prob_A_or_B))"
   ]
  },
  {
   "cell_type": "markdown",
   "id": "f65fe058",
   "metadata": {},
   "source": [
    "## Problem 8: Constructing an Output Message"
   ]
  },
  {
   "cell_type": "code",
   "execution_count": 31,
   "id": "24f52473",
   "metadata": {},
   "outputs": [],
   "source": [
    "first = \"Bernard\""
   ]
  },
  {
   "cell_type": "code",
   "execution_count": 32,
   "id": "418e686d",
   "metadata": {},
   "outputs": [],
   "source": [
    "last = \"Mwamburi\""
   ]
  },
  {
   "cell_type": "code",
   "execution_count": 33,
   "id": "039190cd",
   "metadata": {},
   "outputs": [],
   "source": [
    "sid = 1095236"
   ]
  },
  {
   "cell_type": "code",
   "execution_count": 34,
   "id": "f8c776b6",
   "metadata": {},
   "outputs": [],
   "source": [
    "msg = \"First Name: \" + first + \"\\nLast Name:  \" + last + \"\\nStudent ID: \" + str(sid)"
   ]
  },
  {
   "cell_type": "code",
   "execution_count": 35,
   "id": "78d6f827",
   "metadata": {},
   "outputs": [
    {
     "name": "stdout",
     "output_type": "stream",
     "text": [
      "First Name: Bernard\n",
      "Last Name:  Mwamburi\n",
      "Student ID: 1095236\n"
     ]
    }
   ],
   "source": [
    "print(msg)"
   ]
  }
 ],
 "metadata": {
  "kernelspec": {
   "display_name": "Python 3 (ipykernel)",
   "language": "python",
   "name": "python3"
  },
  "language_info": {
   "codemirror_mode": {
    "name": "ipython",
    "version": 3
   },
   "file_extension": ".py",
   "mimetype": "text/x-python",
   "name": "python",
   "nbconvert_exporter": "python",
   "pygments_lexer": "ipython3",
   "version": "3.10.9"
  }
 },
 "nbformat": 4,
 "nbformat_minor": 5
}
