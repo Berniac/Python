{
 "cells": [
  {
   "cell_type": "markdown",
   "id": "69038175",
   "metadata": {},
   "source": [
    "# DSCI 503 - Homework 03\n",
    "### Bernard Mwamburi"
   ]
  },
  {
   "cell_type": "markdown",
   "id": "a7af8fbf",
   "metadata": {},
   "source": [
    "## Problem 1: Dot Product"
   ]
  },
  {
   "cell_type": "code",
   "execution_count": 1,
   "id": "907f0e18",
   "metadata": {},
   "outputs": [],
   "source": [
    "def dot_product(x, y):\n",
    "    final = 0\n",
    "    i = 0\n",
    "    while i < len(x):\n",
    "        final += (x[i] * y[i])\n",
    "        i += 1\n",
    "    \n",
    "    return final"
   ]
  },
  {
   "cell_type": "code",
   "execution_count": 2,
   "id": "401ceb8f",
   "metadata": {},
   "outputs": [
    {
     "name": "stdout",
     "output_type": "stream",
     "text": [
      "The dot product of v1 and v2 is 16220.\n"
     ]
    }
   ],
   "source": [
    "v1 = [38, 9, 40, 34, 20, 16, 42, 36, 12, 1, 23, 46, 31, 19, 30, 33, 16, 43, 24, 41]\n",
    "v2 = [43, 13, 35, 14, 26, 3, 36, 15, 42, 44, 45, 20, 17, 6, 47, 40, 38, 41, 31, 24]\n",
    "print(\"The dot product of v1 and v2 is {}.\".format(dot_product(v1, v2)))"
   ]
  },
  {
   "cell_type": "markdown",
   "id": "f0410394",
   "metadata": {},
   "source": [
    "## Problem 2: Amortization"
   ]
  },
  {
   "cell_type": "code",
   "execution_count": 3,
   "id": "f1ff4822",
   "metadata": {},
   "outputs": [],
   "source": [
    "def count_payments(amount, rate, pmt):\n",
    "    payments = 0\n",
    "    while amount > 0:\n",
    "        balance = round((amount * (1 + rate / 100)) - pmt, 2)\n",
    "        amount = balance\n",
    "        payments += 1\n",
    "\n",
    "    return payments\n",
    "        "
   ]
  },
  {
   "cell_type": "code",
   "execution_count": 4,
   "id": "9b140793",
   "metadata": {},
   "outputs": [
    {
     "name": "stdout",
     "output_type": "stream",
     "text": [
      "351 monthly paments of $850 would be required.\n",
      "312 monthly paments of $900 would be required.\n",
      "281 monthly paments of $950 would be required.\n",
      "256 monthly paments of $1000 would be required.\n",
      "236 monthly paments of $1050 would be required.\n"
     ]
    }
   ],
   "source": [
    "for i in range(850, 1060, 50):\n",
    "    print(\"{} monthly paments of ${} would be required.\".format(count_payments(160000, 0.4, i), i))"
   ]
  },
  {
   "cell_type": "code",
   "execution_count": 5,
   "id": "202c90da",
   "metadata": {},
   "outputs": [
    {
     "name": "stdout",
     "output_type": "stream",
     "text": [
      "308 monthly paments of $850 would be required.\n",
      "279 monthly paments of $900 would be required.\n",
      "255 monthly paments of $950 would be required.\n",
      "235 monthly paments of $1000 would be required.\n",
      "219 monthly paments of $1050 would be required.\n"
     ]
    }
   ],
   "source": [
    "for i in range(850, 1060, 50):\n",
    "    print(\"{} monthly paments of ${} would be required.\".format(count_payments(160000, 0.35, i), i))"
   ]
  },
  {
   "cell_type": "markdown",
   "id": "be477161",
   "metadata": {},
   "source": [
    "## Problem 3: Minimum"
   ]
  },
  {
   "cell_type": "code",
   "execution_count": 6,
   "id": "b37fe81e",
   "metadata": {},
   "outputs": [],
   "source": [
    "def minimum(x):\n",
    "    i = 0\n",
    "    minimum = x[i]\n",
    "    while i < len(x):\n",
    "        i += 1\n",
    "        if i == len(x):\n",
    "            break\n",
    "        if x[i] < minimum:\n",
    "            minimum = x[i]\n",
    "        \n",
    "    return minimum"
   ]
  },
  {
   "cell_type": "code",
   "execution_count": 7,
   "id": "63eaee92",
   "metadata": {},
   "outputs": [
    {
     "name": "stdout",
     "output_type": "stream",
     "text": [
      "4.1\n",
      "3.4\n",
      "Chicago\n"
     ]
    }
   ],
   "source": [
    "list1 = [9.8, 7.4, 5.6, 4.8, 4.8, 5.3, 4.1, 9.6, 5.4]\n",
    "list2 = [3.4, 7.6, 8.7, 7.5, 9.8, 7.5, 6.7, 8.7, 8.4]\n",
    "list3 = ['St. Louis', 'Kansas City', 'Chicago', 'Little Rock', 'Omaha']\n",
    "\n",
    "print(minimum(list1))\n",
    "print(minimum(list2))\n",
    "print(minimum(list3))"
   ]
  },
  {
   "cell_type": "markdown",
   "id": "26b12688",
   "metadata": {},
   "source": [
    "## Problem 4: Argmin"
   ]
  },
  {
   "cell_type": "code",
   "execution_count": 8,
   "id": "9ca8150a",
   "metadata": {},
   "outputs": [],
   "source": [
    "def argmin(x):\n",
    "    idx = 0\n",
    "    j = 0\n",
    "    while j < len(x):\n",
    "        j += 1\n",
    "        if j == len(x):\n",
    "            break\n",
    "        if x[j] < x[idx]:\n",
    "            idx = j\n",
    "    \n",
    "    return idx"
   ]
  },
  {
   "cell_type": "code",
   "execution_count": 9,
   "id": "7c1def11",
   "metadata": {},
   "outputs": [
    {
     "name": "stdout",
     "output_type": "stream",
     "text": [
      "6\n",
      "0\n",
      "2\n"
     ]
    }
   ],
   "source": [
    "list1 = [9.8, 7.4, 5.6, 4.8, 4.8, 5.3, 4.1, 9.6, 5.4]\n",
    "list2 = [3.4, 7.6, 8.7, 7.5, 9.8, 7.5, 6.7, 8.7, 8.4]\n",
    "list3 = ['St. Louis', 'Kansas City', 'Chicago', 'Little Rock', 'Omaha']\n",
    "\n",
    "print(argmin(list1))\n",
    "print(argmin(list2))\n",
    "print(argmin(list3))"
   ]
  },
  {
   "cell_type": "markdown",
   "id": "fee752f2",
   "metadata": {},
   "source": [
    "## Problem 5: Find Smallest Elements"
   ]
  },
  {
   "cell_type": "code",
   "execution_count": 10,
   "id": "e6debcb0",
   "metadata": {},
   "outputs": [],
   "source": [
    "def find_smallest(x, n=None):\n",
    "    copyx = x[:]\n",
    "    \n",
    "    if n is None:\n",
    "        smallest = min(copyx)\n",
    "        \n",
    "        return smallest\n",
    "    elif n >= len(copyx):\n",
    "        return copyx\n",
    "    else:\n",
    "        copyx.sort()\n",
    "        \n",
    "        return copyx[:n]"
   ]
  },
  {
   "cell_type": "code",
   "execution_count": 11,
   "id": "a747b4a9",
   "metadata": {},
   "outputs": [
    {
     "name": "stdout",
     "output_type": "stream",
     "text": [
      "17\n",
      "[17]\n",
      "[17, 28]\n",
      "[17, 28, 28, 39, 53]\n",
      "[39, 74, 28, 64, 17, 28, 54, 53]\n"
     ]
    }
   ],
   "source": [
    "my_list = [39, 74, 28, 64, 17, 28, 54, 53]\n",
    "print(find_smallest(my_list))\n",
    "print(find_smallest(my_list, 1))\n",
    "print(find_smallest(my_list, 2))\n",
    "print(find_smallest(my_list, 5))\n",
    "print(find_smallest(my_list, 12))"
   ]
  },
  {
   "cell_type": "code",
   "execution_count": 12,
   "id": "72e0416d",
   "metadata": {},
   "outputs": [
    {
     "name": "stdout",
     "output_type": "stream",
     "text": [
      "[39, 74, 28, 64, 17, 28, 54, 53]\n"
     ]
    }
   ],
   "source": [
    "print(my_list)"
   ]
  },
  {
   "cell_type": "markdown",
   "id": "2ffcb47f",
   "metadata": {},
   "source": [
    "## Problem 6: Find Unique Elements"
   ]
  },
  {
   "cell_type": "code",
   "execution_count": 13,
   "id": "543a036c",
   "metadata": {},
   "outputs": [],
   "source": [
    "def unique(x):\n",
    "    unique_list = []\n",
    "    i = 0\n",
    "    while i < len(x):\n",
    "        if x[i] not in unique_list:\n",
    "            unique_list.append(x[i])\n",
    "        i += 1\n",
    "            \n",
    "    unique_list.sort()\n",
    "        \n",
    "    return unique_list"
   ]
  },
  {
   "cell_type": "code",
   "execution_count": 14,
   "id": "7dcfb360",
   "metadata": {},
   "outputs": [
    {
     "name": "stdout",
     "output_type": "stream",
     "text": [
      "[12, 14, 16, 19, 23]\n",
      "['bat', 'cat', 'dog', 'frog']\n"
     ]
    }
   ],
   "source": [
    "int_list = [23, 16, 23, 12, 14, 23, 12, 19, 19]\n",
    "str_list = ['cat', 'dog', 'dog', 'cat', 'bat', 'frog', 'dog', 'frog']\n",
    "\n",
    "print(unique(int_list))\n",
    "print(unique(str_list))"
   ]
  },
  {
   "cell_type": "markdown",
   "id": "e179f8ea",
   "metadata": {},
   "source": [
    "## Problem 7: Frequency Distribution"
   ]
  },
  {
   "cell_type": "code",
   "execution_count": 15,
   "id": "d4ad6c88",
   "metadata": {},
   "outputs": [],
   "source": [
    "def freq_dist(x):\n",
    "    values = unique(x)\n",
    "    counts = []\n",
    "    \n",
    "    j = 0\n",
    "    while j < len(values):\n",
    "        value = values[j]\n",
    "        count = 0\n",
    "        k = 0\n",
    "        while k < len(x):\n",
    "            if x[k] == value:\n",
    "                count += 1\n",
    "            k += 1\n",
    "        counts.append(count)\n",
    "        j += 1\n",
    "        \n",
    "    return values, counts"
   ]
  },
  {
   "cell_type": "code",
   "execution_count": 16,
   "id": "f146d35e",
   "metadata": {},
   "outputs": [
    {
     "name": "stdout",
     "output_type": "stream",
     "text": [
      "Unique values: ['A', 'B', 'C', 'D', 'F']\n",
      "Frequencies:             [6, 8, 5, 5, 3]\n"
     ]
    }
   ],
   "source": [
    "grades = ['A', 'D', 'A', 'C', 'B', 'F', 'A', 'D', 'C',\n",
    "          'B', 'F', 'A', 'C', 'B', 'A', 'B', 'B', 'C',\n",
    "          'B', 'F', 'D', 'D', 'A', 'C', 'B', 'B', 'D']\n",
    "values, counts = freq_dist(grades)\n",
    "print('''Unique values: {}\n",
    "Frequencies:             {}'''.format(values, counts))"
   ]
  },
  {
   "cell_type": "markdown",
   "id": "aba3937f",
   "metadata": {},
   "source": [
    "## Problem 8: Weighted Means"
   ]
  },
  {
   "cell_type": "code",
   "execution_count": 17,
   "id": "f9f8a431",
   "metadata": {},
   "outputs": [],
   "source": [
    "def mean(x, w=None):\n",
    "    if w is None:\n",
    "        n = 0\n",
    "        i = 0\n",
    "        summation = 0\n",
    "        while i < len(x):\n",
    "            summation += x[i]\n",
    "            n += 1\n",
    "            i += 1\n",
    "        return summation / n\n",
    "    else:\n",
    "        weighted_sum = 0\n",
    "        weight_sum = 0\n",
    "        i = 0\n",
    "        while i < len(x):\n",
    "            weighted_sum += x[i] * w[i]\n",
    "            weight_sum += w[i]\n",
    "            i += 1\n",
    "        return weighted_sum / weight_sum\n"
   ]
  },
  {
   "cell_type": "code",
   "execution_count": 18,
   "id": "2fc33614",
   "metadata": {},
   "outputs": [
    {
     "name": "stdout",
     "output_type": "stream",
     "text": [
      "Standard mean: 4.9\n",
      "Weighted mean: 4.15\n"
     ]
    }
   ],
   "source": [
    "values = [4, 7, 3, 5, 2, 6, 8, 2, 4, 8]\n",
    "weights = [2, 1, 3, 1, 2, 3, 1, 4, 2, 1]\n",
    "\n",
    "standard_mean = mean(values)\n",
    "weighted_mean = mean(values, weights)\n",
    "\n",
    "print(f\"Standard mean: {standard_mean}\")\n",
    "print(f\"Weighted mean: {weighted_mean}\")"
   ]
  }
 ],
 "metadata": {
  "kernelspec": {
   "display_name": "Python 3 (ipykernel)",
   "language": "python",
   "name": "python3"
  },
  "language_info": {
   "codemirror_mode": {
    "name": "ipython",
    "version": 3
   },
   "file_extension": ".py",
   "mimetype": "text/x-python",
   "name": "python",
   "nbconvert_exporter": "python",
   "pygments_lexer": "ipython3",
   "version": "3.10.9"
  }
 },
 "nbformat": 4,
 "nbformat_minor": 5
}
