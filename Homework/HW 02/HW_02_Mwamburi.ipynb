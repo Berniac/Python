{
 "cells": [
  {
   "cell_type": "markdown",
   "id": "4bbbdd36",
   "metadata": {},
   "source": [
    "# DSCI 503 - Homework 02\n",
    "### Bernard Mwamburi"
   ]
  },
  {
   "cell_type": "markdown",
   "id": "0f7f7cf5",
   "metadata": {},
   "source": [
    "## Problem 1: Altering Lists"
   ]
  },
  {
   "cell_type": "code",
   "execution_count": 1,
   "id": "10a3f949",
   "metadata": {},
   "outputs": [],
   "source": [
    "employees = [\"Beth\", \"Fred\", \"Drew\", \"Alex\",  \"Emma\", \"Chad\"]\n",
    "years = [15, 11, 8, 5, 4, 2]"
   ]
  },
  {
   "cell_type": "code",
   "execution_count": 2,
   "id": "830b3c4c",
   "metadata": {},
   "outputs": [
    {
     "name": "stdout",
     "output_type": "stream",
     "text": [
      "['Beth', 'Gina', 'Fred', 'Drew', 'Alex', 'Emma', 'Herb', 'Chad', 'Iris']\n",
      "[15, 12, 11, 8, 5, 4, 3, 2, 0]\n"
     ]
    }
   ],
   "source": [
    "employees.insert(1, \"Gina\")\n",
    "years.insert(1, 12)\n",
    "employees.insert(-1, \"Herb\")\n",
    "years.insert(-1, 3)\n",
    "employees.append(\"Iris\")\n",
    "years.append(0)\n",
    "print(employees)\n",
    "print(years)"
   ]
  },
  {
   "cell_type": "code",
   "execution_count": 3,
   "id": "fe2f1d16",
   "metadata": {},
   "outputs": [
    {
     "name": "stdout",
     "output_type": "stream",
     "text": [
      "[15, 12, 8, 6, 5, 4, 2, 0]\n",
      "['Beth', 'Gina', 'Drew', 'Emma', 'Alex', 'Herb', 'Chad', 'Iris']\n"
     ]
    }
   ],
   "source": [
    "del employees[2]\n",
    "del years[2]\n",
    "years[5] = 6\n",
    "years.sort(reverse=True)\n",
    "employees.remove(\"Emma\")\n",
    "employees.insert(years.index(6), \"Emma\")\n",
    "print(years)\n",
    "print(employees)"
   ]
  },
  {
   "cell_type": "markdown",
   "id": "417a65dd",
   "metadata": {},
   "source": [
    "## Problem 2 : Sorting and Slicing Lists"
   ]
  },
  {
   "cell_type": "code",
   "execution_count": 4,
   "id": "c737a2e1",
   "metadata": {},
   "outputs": [],
   "source": [
    "import random\n",
    "random.seed(12)\n",
    "random_list = random.sample(range(500), 99)"
   ]
  },
  {
   "cell_type": "code",
   "execution_count": 5,
   "id": "efc8de82",
   "metadata": {},
   "outputs": [
    {
     "name": "stdout",
     "output_type": "stream",
     "text": [
      "\n",
      "Length of random_list: 99\n",
      "First 10 Elements of random_list: [242, 137, 336, 270, 341, 179, 73, 195, 5, 191]\n",
      "\n"
     ]
    }
   ],
   "source": [
    "print('''\n",
    "Length of random_list: {length}\n",
    "First 10 Elements of random_list: {elems}\n",
    "'''.format(length=len(random_list), elems=random_list[:10]))"
   ]
  },
  {
   "cell_type": "code",
   "execution_count": 6,
   "id": "243ba702",
   "metadata": {},
   "outputs": [
    {
     "name": "stdout",
     "output_type": "stream",
     "text": [
      "The sum of the elements in random list is 23739.\n"
     ]
    }
   ],
   "source": [
    "print(\"The sum of the elements in random list is {total}.\".format(total=sum(random_list)))"
   ]
  },
  {
   "cell_type": "code",
   "execution_count": 7,
   "id": "26a16030",
   "metadata": {},
   "outputs": [
    {
     "name": "stdout",
     "output_type": "stream",
     "text": [
      "\n",
      "First 10 Elements of sorted_list: [0, 5, 9, 15, 26, 30, 31, 38, 42, 44]\n",
      "First 10 Elements of random_list: [242, 137, 336, 270, 341, 179, 73, 195, 5, 191]\n",
      "\n"
     ]
    }
   ],
   "source": [
    "sorted_list = random_list.copy()\n",
    "sorted_list.sort()\n",
    "print(\"\"\"\n",
    "First 10 Elements of sorted_list: {0}\n",
    "First 10 Elements of random_list: {1}\n",
    "\"\"\".format(sorted_list[:10], random_list[:10]))"
   ]
  },
  {
   "cell_type": "code",
   "execution_count": 8,
   "id": "26a8f0a3",
   "metadata": {},
   "outputs": [
    {
     "name": "stdout",
     "output_type": "stream",
     "text": [
      "\n",
      "The smallest element of bot_slice is 0.\n",
      "The largest element of bot_slice is 173.\n",
      "\n",
      "The smallest element of mid_slice is 179.\n",
      "The largest element of mid_slice is 311.\n",
      "\n",
      "The smallest element of top_slice is 318.\n",
      "The largest element of top_slice is 484.\n",
      "\n"
     ]
    }
   ],
   "source": [
    "bot_slice = sorted_list[:33]\n",
    "mid_slice = sorted_list[33:66]\n",
    "top_slice = sorted_list[66:]\n",
    "print('''\n",
    "The smallest element of bot_slice is {0}.\n",
    "The largest element of bot_slice is {1}.\n",
    "\n",
    "The smallest element of mid_slice is {2}.\n",
    "The largest element of mid_slice is {3}.\n",
    "\n",
    "The smallest element of top_slice is {4}.\n",
    "The largest element of top_slice is {5}.\n",
    "'''.format(bot_slice[0], bot_slice[-1], mid_slice[0], mid_slice[-1], top_slice[0], top_slice[-1]))"
   ]
  },
  {
   "cell_type": "markdown",
   "id": "f355e1df",
   "metadata": {},
   "source": [
    "## Problem 3: Calculating Sum of Squared Errors"
   ]
  },
  {
   "cell_type": "code",
   "execution_count": 9,
   "id": "ae3e94b6",
   "metadata": {},
   "outputs": [],
   "source": [
    "length = [22.7, 22.4, 25.8, 21.3, 20.1, 22.1, 21.1, 25.3, 26.9, 26.9, \n",
    "          23.0, 23.8, 26.2, 20.4, 23.0, 21.9, 23.5, 27.8, 25.3, 25.9]\n",
    "\n",
    "weight = [9.2, 8.8, 10.7, 8.3, 6.2, 8.6, 7.2, 11.2, 10.5, 11.3,\n",
    "          9.6, 9.9, 10.9, 5.9, 9.5, 9.1, 9.7, 11.6, 10.2, 10.5]"
   ]
  },
  {
   "cell_type": "code",
   "execution_count": 10,
   "id": "f33ad0a4",
   "metadata": {},
   "outputs": [
    {
     "name": "stdout",
     "output_type": "stream",
     "text": [
      "[8.42, 8.24, 10.28, 7.58, 6.86, 8.06, 7.46, 9.98, 10.94, 10.94, 8.6, 9.08, 10.52, 7.04, 8.6, 7.94, 8.9, 11.48, 9.98, 10.34]\n"
     ]
    }
   ],
   "source": [
    "pred_weight = []\n",
    "for elem in length:\n",
    "    new_weight = round(((0.6 * elem) - 5.2), 2)\n",
    "    pred_weight.append(new_weight)\n",
    "print(pred_weight)"
   ]
  },
  {
   "cell_type": "code",
   "execution_count": 11,
   "id": "3d7acedc",
   "metadata": {},
   "outputs": [
    {
     "name": "stdout",
     "output_type": "stream",
     "text": [
      "10.2236\n"
     ]
    }
   ],
   "source": [
    "SSE = 0\n",
    "for i in range(0, len(weight)):\n",
    "    SSE += (weight[i] - pred_weight[i])**2\n",
    "print(round(SSE, 4))"
   ]
  },
  {
   "cell_type": "markdown",
   "id": "2dd62273",
   "metadata": {},
   "source": [
    "## Problem 4: Calculating Exam Scores"
   ]
  },
  {
   "cell_type": "code",
   "execution_count": 12,
   "id": "fc91950e",
   "metadata": {},
   "outputs": [
    {
     "name": "stdout",
     "output_type": "stream",
     "text": [
      "\n",
      "Student 1 Grade: 64.0%\n",
      "Student 2 Grade: 80.0%\n",
      "\n"
     ]
    }
   ],
   "source": [
    "correct = [\"D\", \"B\", \"C\", \"A\", \"C\", \"D\", \"A\", \"C\", \"C\", \"B\", \"D\", \"A\", \"B\", \"D\", \"C\", \"D\", \"C\", \"D\", \"D\", \"A\", \"B\", \"D\", \"C\", \"B\", \"A\"]\n",
    "answers1 = [\"A\", \"B\", \"C\", \"A\", \"B\", \"D\", \"A\", \"A\", \"C\", \"B\", \"D\", \"A\", \"D\", \"C\", \"C\", \"B\", \"C\", \"D\", \"B\", \"A\", \"D\", \"D\", \"C\", \"C\", \"A\"]\n",
    "answers2 = [\"D\", \"A\", \"C\", \"A\", \"B\", \"D\", \"A\", \"C\", \"C\", \"B\", \"D\", \"A\", \"B\", \"D\", \"A\", \"D\", \"C\", \"D\", \"C\", \"A\", \"B\", \"C\", \"C\", \"B\", \"A\"]\n",
    "\n",
    "count1 = 0\n",
    "count2 = 0\n",
    "for i in range(0, len(correct)):\n",
    "    if answers1[i] == correct[i]:\n",
    "        count1 += 1\n",
    "    if answers2[i] == correct[i]:\n",
    "        count2 += 1\n",
    "\n",
    "grade1 = count1/len(correct) * 100\n",
    "grade2 = count2/len(correct) * 100\n",
    "\n",
    "print(\"\"\"\n",
    "Student 1 Grade: {0}%\n",
    "Student 2 Grade: {1}%\n",
    "\"\"\".format(grade1, grade2))"
   ]
  },
  {
   "cell_type": "markdown",
   "id": "5d408282",
   "metadata": {},
   "source": [
    "## Problem 5: Determining Monthly Payments"
   ]
  },
  {
   "cell_type": "code",
   "execution_count": 13,
   "id": "99dd4634",
   "metadata": {},
   "outputs": [
    {
     "name": "stdout",
     "output_type": "stream",
     "text": [
      "A loan of $100000 would require monthly payments of $524.67\n",
      "A loan of $110000 would require monthly payments of $577.13\n",
      "A loan of $120000 would require monthly payments of $629.6\n",
      "A loan of $130000 would require monthly payments of $682.06\n",
      "A loan of $140000 would require monthly payments of $734.53\n",
      "A loan of $150000 would require monthly payments of $787.0\n",
      "A loan of $160000 would require monthly payments of $839.46\n",
      "A loan of $170000 would require monthly payments of $891.93\n",
      "A loan of $180000 would require monthly payments of $944.4\n",
      "A loan of $190000 would require monthly payments of $996.86\n",
      "A loan of $200000 would require monthly payments of $1049.33\n"
     ]
    }
   ],
   "source": [
    "i = 0.4/100\n",
    "n = 360\n",
    "start = 100000\n",
    "increment = 10000\n",
    "for j in range(start, 200050, increment):\n",
    "    pmt = round((j * i) / (1 - (1 + i)**-n), 2)\n",
    "    print(\"A loan of ${0} would require monthly payments of ${1}\".format(j, pmt))"
   ]
  },
  {
   "cell_type": "markdown",
   "id": "b108c609",
   "metadata": {},
   "source": [
    "## Problem 6: Creating an Amortization Schedule"
   ]
  },
  {
   "cell_type": "code",
   "execution_count": 14,
   "id": "0d2051b7",
   "metadata": {},
   "outputs": [
    {
     "name": "stdout",
     "output_type": "stream",
     "text": [
      "The balance at the end of 1 months will be $159800.54.\n",
      "The balance at the end of 2 months will be $159600.28.\n",
      "The balance at the end of 3 months will be $159399.22.\n",
      "The balance at the end of 4 months will be $159197.36.\n",
      "The balance at the end of 5 months will be $158994.69.\n",
      "The balance at the end of 6 months will be $158791.21.\n",
      "The balance at the end of 7 months will be $158586.91.\n",
      "The balance at the end of 8 months will be $158381.8.\n",
      "The balance at the end of 9 months will be $158175.87.\n",
      "The balance at the end of 10 months will be $157969.11.\n",
      "The balance at the end of 11 months will be $157761.53.\n",
      "The balance at the end of 12 months will be $157553.12.\n",
      "The balance at the end of 13 months will be $157343.87.\n",
      "The balance at the end of 14 months will be $157133.79.\n",
      "The balance at the end of 15 months will be $156922.87.\n",
      "The balance at the end of 16 months will be $156711.1.\n",
      "The balance at the end of 17 months will be $156498.48.\n",
      "The balance at the end of 18 months will be $156285.01.\n",
      "The balance at the end of 19 months will be $156070.69.\n",
      "The balance at the end of 20 months will be $155855.51.\n",
      "The balance at the end of 21 months will be $155639.47.\n",
      "The balance at the end of 22 months will be $155422.57.\n",
      "The balance at the end of 23 months will be $155204.8.\n",
      "The balance at the end of 24 months will be $154986.16.\n",
      "The balance at the end of 25 months will be $154766.64.\n",
      "The balance at the end of 26 months will be $154546.25.\n",
      "The balance at the end of 27 months will be $154324.98.\n",
      "The balance at the end of 28 months will be $154102.82.\n",
      "The balance at the end of 29 months will be $153879.77.\n",
      "The balance at the end of 30 months will be $153655.83.\n",
      "The balance at the end of 31 months will be $153430.99.\n",
      "The balance at the end of 32 months will be $153205.25.\n",
      "The balance at the end of 33 months will be $152978.61.\n",
      "The balance at the end of 34 months will be $152751.06.\n",
      "The balance at the end of 35 months will be $152522.6.\n",
      "The balance at the end of 36 months will be $152293.23.\n",
      "The balance at the end of 37 months will be $152062.94.\n",
      "The balance at the end of 38 months will be $151831.73.\n",
      "The balance at the end of 39 months will be $151599.6.\n",
      "The balance at the end of 40 months will be $151366.54.\n",
      "The balance at the end of 41 months will be $151132.55.\n",
      "The balance at the end of 42 months will be $150897.62.\n",
      "The balance at the end of 43 months will be $150661.75.\n",
      "The balance at the end of 44 months will be $150424.94.\n",
      "The balance at the end of 45 months will be $150187.18.\n",
      "The balance at the end of 46 months will be $149948.47.\n",
      "The balance at the end of 47 months will be $149708.8.\n",
      "The balance at the end of 48 months will be $149468.18.\n",
      "The balance at the end of 49 months will be $149226.59.\n",
      "The balance at the end of 50 months will be $148984.04.\n",
      "The balance at the end of 51 months will be $148740.52.\n",
      "The balance at the end of 52 months will be $148496.02.\n",
      "The balance at the end of 53 months will be $148250.54.\n",
      "The balance at the end of 54 months will be $148004.08.\n",
      "The balance at the end of 55 months will be $147756.64.\n",
      "The balance at the end of 56 months will be $147508.21.\n",
      "The balance at the end of 57 months will be $147258.78.\n",
      "The balance at the end of 58 months will be $147008.36.\n",
      "The balance at the end of 59 months will be $146756.93.\n",
      "The balance at the end of 60 months will be $146504.5.\n",
      "The balance at the end of 61 months will be $146251.06.\n",
      "The balance at the end of 62 months will be $145996.6.\n",
      "The balance at the end of 63 months will be $145741.13.\n",
      "The balance at the end of 64 months will be $145484.63.\n",
      "The balance at the end of 65 months will be $145227.11.\n",
      "The balance at the end of 66 months will be $144968.56.\n",
      "The balance at the end of 67 months will be $144708.97.\n",
      "The balance at the end of 68 months will be $144448.35.\n",
      "The balance at the end of 69 months will be $144186.68.\n",
      "The balance at the end of 70 months will be $143923.97.\n",
      "The balance at the end of 71 months will be $143660.21.\n",
      "The balance at the end of 72 months will be $143395.39.\n",
      "The balance at the end of 73 months will be $143129.51.\n",
      "The balance at the end of 74 months will be $142862.57.\n",
      "The balance at the end of 75 months will be $142594.56.\n",
      "The balance at the end of 76 months will be $142325.48.\n",
      "The balance at the end of 77 months will be $142055.32.\n",
      "The balance at the end of 78 months will be $141784.08.\n",
      "The balance at the end of 79 months will be $141511.76.\n",
      "The balance at the end of 80 months will be $141238.35.\n",
      "The balance at the end of 81 months will be $140963.84.\n",
      "The balance at the end of 82 months will be $140688.24.\n",
      "The balance at the end of 83 months will be $140411.53.\n",
      "The balance at the end of 84 months will be $140133.72.\n",
      "The balance at the end of 85 months will be $139854.79.\n",
      "The balance at the end of 86 months will be $139574.75.\n",
      "The balance at the end of 87 months will be $139293.59.\n",
      "The balance at the end of 88 months will be $139011.3.\n",
      "The balance at the end of 89 months will be $138727.89.\n",
      "The balance at the end of 90 months will be $138443.34.\n",
      "The balance at the end of 91 months will be $138157.65.\n",
      "The balance at the end of 92 months will be $137870.82.\n",
      "The balance at the end of 93 months will be $137582.84.\n",
      "The balance at the end of 94 months will be $137293.71.\n",
      "The balance at the end of 95 months will be $137003.42.\n",
      "The balance at the end of 96 months will be $136711.97.\n",
      "The balance at the end of 97 months will be $136419.36.\n",
      "The balance at the end of 98 months will be $136125.58.\n",
      "The balance at the end of 99 months will be $135830.62.\n",
      "The balance at the end of 100 months will be $135534.48.\n",
      "The balance at the end of 101 months will be $135237.16.\n",
      "The balance at the end of 102 months will be $134938.65.\n",
      "The balance at the end of 103 months will be $134638.94.\n",
      "The balance at the end of 104 months will be $134338.04.\n",
      "The balance at the end of 105 months will be $134035.93.\n",
      "The balance at the end of 106 months will be $133732.61.\n",
      "The balance at the end of 107 months will be $133428.08.\n",
      "The balance at the end of 108 months will be $133122.33.\n",
      "The balance at the end of 109 months will be $132815.36.\n",
      "The balance at the end of 110 months will be $132507.16.\n",
      "The balance at the end of 111 months will be $132197.73.\n",
      "The balance at the end of 112 months will be $131887.06.\n",
      "The balance at the end of 113 months will be $131575.15.\n",
      "The balance at the end of 114 months will be $131261.99.\n",
      "The balance at the end of 115 months will be $130947.58.\n",
      "The balance at the end of 116 months will be $130631.91.\n",
      "The balance at the end of 117 months will be $130314.98.\n",
      "The balance at the end of 118 months will be $129996.78.\n",
      "The balance at the end of 119 months will be $129677.31.\n",
      "The balance at the end of 120 months will be $129356.56.\n",
      "The balance at the end of 121 months will be $129034.53.\n",
      "The balance at the end of 122 months will be $128711.21.\n",
      "The balance at the end of 123 months will be $128386.59.\n",
      "The balance at the end of 124 months will be $128060.68.\n",
      "The balance at the end of 125 months will be $127733.46.\n",
      "The balance at the end of 126 months will be $127404.93.\n",
      "The balance at the end of 127 months will be $127075.09.\n",
      "The balance at the end of 128 months will be $126743.93.\n",
      "The balance at the end of 129 months will be $126411.45.\n",
      "The balance at the end of 130 months will be $126077.64.\n",
      "The balance at the end of 131 months will be $125742.49.\n",
      "The balance at the end of 132 months will be $125406.0.\n",
      "The balance at the end of 133 months will be $125068.16.\n",
      "The balance at the end of 134 months will be $124728.97.\n",
      "The balance at the end of 135 months will be $124388.43.\n",
      "The balance at the end of 136 months will be $124046.52.\n",
      "The balance at the end of 137 months will be $123703.25.\n",
      "The balance at the end of 138 months will be $123358.6.\n",
      "The balance at the end of 139 months will be $123012.57.\n",
      "The balance at the end of 140 months will be $122665.16.\n",
      "The balance at the end of 141 months will be $122316.36.\n",
      "The balance at the end of 142 months will be $121966.17.\n",
      "The balance at the end of 143 months will be $121614.57.\n",
      "The balance at the end of 144 months will be $121261.57.\n",
      "The balance at the end of 145 months will be $120907.16.\n",
      "The balance at the end of 146 months will be $120551.33.\n",
      "The balance at the end of 147 months will be $120194.08.\n",
      "The balance at the end of 148 months will be $119835.4.\n",
      "The balance at the end of 149 months will be $119475.28.\n",
      "The balance at the end of 150 months will be $119113.72.\n",
      "The balance at the end of 151 months will be $118750.71.\n",
      "The balance at the end of 152 months will be $118386.25.\n",
      "The balance at the end of 153 months will be $118020.33.\n",
      "The balance at the end of 154 months will be $117652.95.\n",
      "The balance at the end of 155 months will be $117284.1.\n",
      "The balance at the end of 156 months will be $116913.78.\n",
      "The balance at the end of 157 months will be $116541.98.\n",
      "The balance at the end of 158 months will be $116168.69.\n",
      "The balance at the end of 159 months will be $115793.9.\n",
      "The balance at the end of 160 months will be $115417.62.\n",
      "The balance at the end of 161 months will be $115039.83.\n",
      "The balance at the end of 162 months will be $114660.53.\n",
      "The balance at the end of 163 months will be $114279.71.\n",
      "The balance at the end of 164 months will be $113897.37.\n",
      "The balance at the end of 165 months will be $113513.5.\n",
      "The balance at the end of 166 months will be $113128.09.\n",
      "The balance at the end of 167 months will be $112741.14.\n",
      "The balance at the end of 168 months will be $112352.64.\n",
      "The balance at the end of 169 months will be $111962.59.\n",
      "The balance at the end of 170 months will be $111570.98.\n",
      "The balance at the end of 171 months will be $111177.8.\n",
      "The balance at the end of 172 months will be $110783.05.\n",
      "The balance at the end of 173 months will be $110386.72.\n",
      "The balance at the end of 174 months will be $109988.81.\n",
      "The balance at the end of 175 months will be $109589.31.\n",
      "The balance at the end of 176 months will be $109188.21.\n",
      "The balance at the end of 177 months will be $108785.5.\n",
      "The balance at the end of 178 months will be $108381.18.\n",
      "The balance at the end of 179 months will be $107975.24.\n",
      "The balance at the end of 180 months will be $107567.68.\n",
      "The balance at the end of 181 months will be $107158.49.\n",
      "The balance at the end of 182 months will be $106747.66.\n",
      "The balance at the end of 183 months will be $106335.19.\n",
      "The balance at the end of 184 months will be $105921.07.\n",
      "The balance at the end of 185 months will be $105505.29.\n",
      "The balance at the end of 186 months will be $105087.85.\n",
      "The balance at the end of 187 months will be $104668.74.\n",
      "The balance at the end of 188 months will be $104247.95.\n",
      "The balance at the end of 189 months will be $103825.48.\n",
      "The balance at the end of 190 months will be $103401.32.\n",
      "The balance at the end of 191 months will be $102975.47.\n",
      "The balance at the end of 192 months will be $102547.91.\n",
      "The balance at the end of 193 months will be $102118.64.\n",
      "The balance at the end of 194 months will be $101687.65.\n",
      "The balance at the end of 195 months will be $101254.94.\n",
      "The balance at the end of 196 months will be $100820.5.\n",
      "The balance at the end of 197 months will be $100384.32.\n",
      "The balance at the end of 198 months will be $99946.4.\n",
      "The balance at the end of 199 months will be $99506.73.\n",
      "The balance at the end of 200 months will be $99065.3.\n",
      "The balance at the end of 201 months will be $98622.1.\n",
      "The balance at the end of 202 months will be $98177.13.\n",
      "The balance at the end of 203 months will be $97730.38.\n",
      "The balance at the end of 204 months will be $97281.84.\n",
      "The balance at the end of 205 months will be $96831.51.\n",
      "The balance at the end of 206 months will be $96379.38.\n",
      "The balance at the end of 207 months will be $95925.44.\n",
      "The balance at the end of 208 months will be $95469.68.\n",
      "The balance at the end of 209 months will be $95012.1.\n",
      "The balance at the end of 210 months will be $94552.69.\n",
      "The balance at the end of 211 months will be $94091.44.\n",
      "The balance at the end of 212 months will be $93628.35.\n",
      "The balance at the end of 213 months will be $93163.4.\n",
      "The balance at the end of 214 months will be $92696.59.\n",
      "The balance at the end of 215 months will be $92227.92.\n",
      "The balance at the end of 216 months will be $91757.37.\n",
      "The balance at the end of 217 months will be $91284.94.\n",
      "The balance at the end of 218 months will be $90810.62.\n",
      "The balance at the end of 219 months will be $90334.4.\n",
      "The balance at the end of 220 months will be $89856.28.\n",
      "The balance at the end of 221 months will be $89376.25.\n",
      "The balance at the end of 222 months will be $88894.29.\n",
      "The balance at the end of 223 months will be $88410.41.\n",
      "The balance at the end of 224 months will be $87924.59.\n",
      "The balance at the end of 225 months will be $87436.83.\n",
      "The balance at the end of 226 months will be $86947.12.\n",
      "The balance at the end of 227 months will be $86455.45.\n",
      "The balance at the end of 228 months will be $85961.81.\n",
      "The balance at the end of 229 months will be $85466.2.\n",
      "The balance at the end of 230 months will be $84968.6.\n",
      "The balance at the end of 231 months will be $84469.01.\n",
      "The balance at the end of 232 months will be $83967.43.\n",
      "The balance at the end of 233 months will be $83463.84.\n",
      "The balance at the end of 234 months will be $82958.24.\n",
      "The balance at the end of 235 months will be $82450.61.\n",
      "The balance at the end of 236 months will be $81940.95.\n",
      "The balance at the end of 237 months will be $81429.25.\n",
      "The balance at the end of 238 months will be $80915.51.\n",
      "The balance at the end of 239 months will be $80399.71.\n",
      "The balance at the end of 240 months will be $79881.85.\n",
      "The balance at the end of 241 months will be $79361.92.\n",
      "The balance at the end of 242 months will be $78839.91.\n",
      "The balance at the end of 243 months will be $78315.81.\n",
      "The balance at the end of 244 months will be $77789.61.\n",
      "The balance at the end of 245 months will be $77261.31.\n",
      "The balance at the end of 246 months will be $76730.9.\n",
      "The balance at the end of 247 months will be $76198.36.\n",
      "The balance at the end of 248 months will be $75663.69.\n",
      "The balance at the end of 249 months will be $75126.88.\n",
      "The balance at the end of 250 months will be $74587.93.\n",
      "The balance at the end of 251 months will be $74046.82.\n",
      "The balance at the end of 252 months will be $73503.55.\n",
      "The balance at the end of 253 months will be $72958.1.\n",
      "The balance at the end of 254 months will be $72410.47.\n",
      "The balance at the end of 255 months will be $71860.65.\n",
      "The balance at the end of 256 months will be $71308.63.\n",
      "The balance at the end of 257 months will be $70754.4.\n",
      "The balance at the end of 258 months will be $70197.96.\n",
      "The balance at the end of 259 months will be $69639.29.\n",
      "The balance at the end of 260 months will be $69078.39.\n",
      "The balance at the end of 261 months will be $68515.24.\n",
      "The balance at the end of 262 months will be $67949.84.\n",
      "The balance at the end of 263 months will be $67382.18.\n",
      "The balance at the end of 264 months will be $66812.25.\n",
      "The balance at the end of 265 months will be $66240.04.\n",
      "The balance at the end of 266 months will be $65665.54.\n",
      "The balance at the end of 267 months will be $65088.74.\n",
      "The balance at the end of 268 months will be $64509.63.\n",
      "The balance at the end of 269 months will be $63928.21.\n",
      "The balance at the end of 270 months will be $63344.46.\n",
      "The balance at the end of 271 months will be $62758.38.\n",
      "The balance at the end of 272 months will be $62169.95.\n",
      "The balance at the end of 273 months will be $61579.17.\n",
      "The balance at the end of 274 months will be $60986.03.\n",
      "The balance at the end of 275 months will be $60390.51.\n",
      "The balance at the end of 276 months will be $59792.61.\n",
      "The balance at the end of 277 months will be $59192.32.\n",
      "The balance at the end of 278 months will be $58589.63.\n",
      "The balance at the end of 279 months will be $57984.53.\n",
      "The balance at the end of 280 months will be $57377.01.\n",
      "The balance at the end of 281 months will be $56767.06.\n",
      "The balance at the end of 282 months will be $56154.67.\n",
      "The balance at the end of 283 months will be $55539.83.\n",
      "The balance at the end of 284 months will be $54922.53.\n",
      "The balance at the end of 285 months will be $54302.76.\n",
      "The balance at the end of 286 months will be $53680.51.\n",
      "The balance at the end of 287 months will be $53055.77.\n",
      "The balance at the end of 288 months will be $52428.53.\n",
      "The balance at the end of 289 months will be $51798.78.\n",
      "The balance at the end of 290 months will be $51166.52.\n",
      "The balance at the end of 291 months will be $50531.73.\n",
      "The balance at the end of 292 months will be $49894.4.\n",
      "The balance at the end of 293 months will be $49254.52.\n",
      "The balance at the end of 294 months will be $48612.08.\n",
      "The balance at the end of 295 months will be $47967.07.\n",
      "The balance at the end of 296 months will be $47319.48.\n",
      "The balance at the end of 297 months will be $46669.3.\n",
      "The balance at the end of 298 months will be $46016.52.\n",
      "The balance at the end of 299 months will be $45361.13.\n",
      "The balance at the end of 300 months will be $44703.11.\n",
      "The balance at the end of 301 months will be $44042.46.\n",
      "The balance at the end of 302 months will be $43379.17.\n",
      "The balance at the end of 303 months will be $42713.23.\n",
      "The balance at the end of 304 months will be $42044.62.\n",
      "The balance at the end of 305 months will be $41373.34.\n",
      "The balance at the end of 306 months will be $40699.37.\n",
      "The balance at the end of 307 months will be $40022.71.\n",
      "The balance at the end of 308 months will be $39343.34.\n",
      "The balance at the end of 309 months will be $38661.25.\n",
      "The balance at the end of 310 months will be $37976.43.\n",
      "The balance at the end of 311 months will be $37288.88.\n",
      "The balance at the end of 312 months will be $36598.58.\n",
      "The balance at the end of 313 months will be $35905.51.\n",
      "The balance at the end of 314 months will be $35209.67.\n",
      "The balance at the end of 315 months will be $34511.05.\n",
      "The balance at the end of 316 months will be $33809.63.\n",
      "The balance at the end of 317 months will be $33105.41.\n",
      "The balance at the end of 318 months will be $32398.37.\n",
      "The balance at the end of 319 months will be $31688.5.\n",
      "The balance at the end of 320 months will be $30975.79.\n",
      "The balance at the end of 321 months will be $30260.23.\n",
      "The balance at the end of 322 months will be $29541.81.\n",
      "The balance at the end of 323 months will be $28820.52.\n",
      "The balance at the end of 324 months will be $28096.34.\n",
      "The balance at the end of 325 months will be $27369.27.\n",
      "The balance at the end of 326 months will be $26639.29.\n",
      "The balance at the end of 327 months will be $25906.39.\n",
      "The balance at the end of 328 months will be $25170.56.\n",
      "The balance at the end of 329 months will be $24431.78.\n",
      "The balance at the end of 330 months will be $23690.05.\n",
      "The balance at the end of 331 months will be $22945.35.\n",
      "The balance at the end of 332 months will be $22197.67.\n",
      "The balance at the end of 333 months will be $21447.0.\n",
      "The balance at the end of 334 months will be $20693.33.\n",
      "The balance at the end of 335 months will be $19936.64.\n",
      "The balance at the end of 336 months will be $19176.93.\n",
      "The balance at the end of 337 months will be $18414.18.\n",
      "The balance at the end of 338 months will be $17648.38.\n",
      "The balance at the end of 339 months will be $16879.51.\n",
      "The balance at the end of 340 months will be $16107.57.\n",
      "The balance at the end of 341 months will be $15332.54.\n",
      "The balance at the end of 342 months will be $14554.41.\n",
      "The balance at the end of 343 months will be $13773.17.\n",
      "The balance at the end of 344 months will be $12988.8.\n",
      "The balance at the end of 345 months will be $12201.3.\n",
      "The balance at the end of 346 months will be $11410.65.\n",
      "The balance at the end of 347 months will be $10616.83.\n",
      "The balance at the end of 348 months will be $9819.84.\n",
      "The balance at the end of 349 months will be $9019.66.\n",
      "The balance at the end of 350 months will be $8216.28.\n",
      "The balance at the end of 351 months will be $7409.69.\n",
      "The balance at the end of 352 months will be $6599.87.\n",
      "The balance at the end of 353 months will be $5786.81.\n",
      "The balance at the end of 354 months will be $4970.5.\n",
      "The balance at the end of 355 months will be $4150.92.\n",
      "The balance at the end of 356 months will be $3328.06.\n",
      "The balance at the end of 357 months will be $2501.91.\n",
      "The balance at the end of 358 months will be $1672.46.\n",
      "The balance at the end of 359 months will be $839.69.\n",
      "The balance at the end of 360 months will be $3.59.\n"
     ]
    }
   ],
   "source": [
    "balance = 160000\n",
    "i = 0.4/100\n",
    "pmt = 839.46\n",
    "for j in range(1, 361):\n",
    "    balance = round((balance * (1 + i) - pmt), 2)\n",
    "    print(\"The balance at the end of {0} months will be ${1}.\".format(j, balance))"
   ]
  },
  {
   "cell_type": "markdown",
   "id": "d343c674",
   "metadata": {},
   "source": [
    "## Problem 7: Calculating Price of a Bulk Order"
   ]
  },
  {
   "cell_type": "code",
   "execution_count": 15,
   "id": "c5dfbff6",
   "metadata": {},
   "outputs": [
    {
     "name": "stdout",
     "output_type": "stream",
     "text": [
      "The cost of an order of 84 widgets is $29400\n",
      "The cost of an order of 100 widgets is $35000\n",
      "The cost of an order of 126 widgets is $42800\n",
      "The cost of an order of 150 widgets is $50000\n",
      "The cost of an order of 186 widgets is $60800\n",
      "The cost of an order of 200 widgets is $65000\n",
      "The cost of an order of 216 widgets is $69000\n",
      "The cost of an order of 248 widgets is $77000\n"
     ]
    }
   ],
   "source": [
    "quantities =  [84, 100, 126, 150, 186, 200, 216, 248]\n",
    "for quantity in quantities:\n",
    "    if quantity <= 100:\n",
    "        cost = quantity * 350\n",
    "    elif quantity <= 200:\n",
    "        cost = (100 * 350) + ((quantity-100) * 300)\n",
    "    else:\n",
    "        cost = (100 * 350) + (100 * 300) + ((quantity - 200) * 250)\n",
    "        \n",
    "    print(\"The cost of an order of {0} widgets is ${1}\".format(quantity, cost))"
   ]
  },
  {
   "cell_type": "markdown",
   "id": "0dd6a53f",
   "metadata": {},
   "source": [
    "## Problem 8: Adding Matrices"
   ]
  },
  {
   "cell_type": "code",
   "execution_count": 16,
   "id": "3ff934ae",
   "metadata": {},
   "outputs": [],
   "source": [
    "A = [\n",
    "    [13, 43, 28, 22, 41],\n",
    "    [17, 39, 46, 16, 21],\n",
    "    [41, 34, 31, 25, 14],\n",
    "]\n",
    "B = [\n",
    "    [35, 29, 43, 21, 31],\n",
    "    [48, 26, 19, 17, 23],\n",
    "    [32, 34, 24, 16, 27],\n",
    "]"
   ]
  },
  {
   "cell_type": "code",
   "execution_count": 17,
   "id": "cd924c0f",
   "metadata": {},
   "outputs": [
    {
     "name": "stdout",
     "output_type": "stream",
     "text": [
      "[48, 72, 71, 43, 72]\n",
      "[65, 65, 65, 33, 44]\n",
      "[73, 68, 55, 41, 41]\n"
     ]
    }
   ],
   "source": [
    "AplusB = []\n",
    "for i in range(0, len(A)):\n",
    "    rows = []\n",
    "    for j in range(0, len(A[i])):\n",
    "        rows.append(A[i][j] + B[i][j])\n",
    "        \n",
    "    AplusB.append(rows)\n",
    "\n",
    "for row in AplusB:\n",
    "    print(row)\n",
    "        \n",
    "    "
   ]
  }
 ],
 "metadata": {
  "kernelspec": {
   "display_name": "Python 3 (ipykernel)",
   "language": "python",
   "name": "python3"
  },
  "language_info": {
   "codemirror_mode": {
    "name": "ipython",
    "version": 3
   },
   "file_extension": ".py",
   "mimetype": "text/x-python",
   "name": "python",
   "nbconvert_exporter": "python",
   "pygments_lexer": "ipython3",
   "version": "3.10.9"
  }
 },
 "nbformat": 4,
 "nbformat_minor": 5
}
